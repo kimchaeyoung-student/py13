{
  "nbformat": 4,
  "nbformat_minor": 0,
  "metadata": {
    "colab": {
      "name": "py00_exam19_mid의 사본",
      "provenance": [],
      "collapsed_sections": [],
      "include_colab_link": true
    },
    "kernelspec": {
      "display_name": "Python 3",
      "language": "python",
      "name": "python3"
    }
  },
  "cells": [
    {
      "cell_type": "markdown",
      "metadata": {
        "id": "view-in-github",
        "colab_type": "text"
      },
      "source": [
        "<a href=\"https://colab.research.google.com/github/kimchaeyoung-student/py13/blob/master/py13_exam19_mid.ipynb\" target=\"_parent\"><img src=\"https://colab.research.google.com/assets/colab-badge.svg\" alt=\"Open In Colab\"/></a>"
      ]
    },
    {
      "cell_type": "markdown",
      "metadata": {
        "colab_type": "text",
        "id": "jXMg8Cv_Q0bM"
      },
      "source": [
        "# 중간필기시험: 파이썬 활용 (2019.10.21)\n",
        "- 문제에 배점이 표시되어 있음. (기본 배점은 1, 총 30점)"
      ]
    },
    {
      "cell_type": "markdown",
      "metadata": {
        "id": "Rc8uW2C1MAyp",
        "colab_type": "text"
      },
      "source": [
        "***"
      ]
    },
    {
      "cell_type": "markdown",
      "metadata": {
        "colab_type": "text",
        "id": "aqPJkzsTW4An"
      },
      "source": [
        "### # [1] 다음 식의 연산 결과는?\n",
        "\n",
        "```\n",
        "a = 3\n",
        "b = 4\n",
        "a**b  \n",
        "```\n"
      ]
    },
    {
      "cell_type": "code",
      "metadata": {
        "id": "TqnRr5eX6Poo",
        "colab_type": "code",
        "outputId": "ccabdad2-05cb-484a-d61b-3d6ce09a5a34",
        "colab": {
          "base_uri": "https://localhost:8080/",
          "height": 35
        }
      },
      "source": [
        "a = 3\n",
        "b = 4\n",
        "print(a**b)  "
      ],
      "execution_count": 0,
      "outputs": [
        {
          "output_type": "stream",
          "text": [
            "81\n"
          ],
          "name": "stdout"
        }
      ]
    },
    {
      "cell_type": "markdown",
      "metadata": {
        "id": "R9ld7nnCRfp1",
        "colab_type": "text"
      },
      "source": [
        "\n",
        "\n",
        "---\n",
        "\n"
      ]
    },
    {
      "cell_type": "markdown",
      "metadata": {
        "colab_type": "text",
        "id": "bXPUzuO2XNrc"
      },
      "source": [
        "### # [2] 다음 문자열 a의 길이는?\n",
        "\n",
        "\n",
        "```\n",
        "a = \"Life is too short!\"\n",
        "\n",
        "len(a)\n",
        "```"
      ]
    },
    {
      "cell_type": "code",
      "metadata": {
        "id": "aF9Ia9Fa6bvn",
        "colab_type": "code",
        "outputId": "3638e11e-c19a-4cba-c645-fb8ce11331b4",
        "colab": {
          "base_uri": "https://localhost:8080/",
          "height": 35
        }
      },
      "source": [
        "a = \"Life is too short!\"\n",
        "\n",
        "len(a)"
      ],
      "execution_count": 0,
      "outputs": [
        {
          "output_type": "execute_result",
          "data": {
            "text/plain": [
              "18"
            ]
          },
          "metadata": {
            "tags": []
          },
          "execution_count": 3
        }
      ]
    },
    {
      "cell_type": "markdown",
      "metadata": {
        "id": "XjstuNhJRhat",
        "colab_type": "text"
      },
      "source": [
        "\n",
        "\n",
        "---\n",
        "\n"
      ]
    },
    {
      "cell_type": "markdown",
      "metadata": {
        "colab_type": "text",
        "id": "0l2hcxDHYB_s"
      },
      "source": [
        "### # [3-4] 다음 문자열 a 에 대하여 인덱싱과 슬라이싱을 한 결괴는? \n",
        "\n",
        "\n",
        "```\n",
        "a = \"Life is too short, You need Python!\"\n",
        "\n",
        "print(a[-12])   # 문제[3]\n",
        "\n",
        "# \n",
        "\n",
        "a[19:-8]       # 문제[4] \n",
        "\n",
        "```"
      ]
    },
    {
      "cell_type": "code",
      "metadata": {
        "id": "4upFuShj6gke",
        "colab_type": "code",
        "outputId": "a1265ba9-616e-4ea9-bdc0-74e0b29964be",
        "colab": {
          "base_uri": "https://localhost:8080/",
          "height": 53
        }
      },
      "source": [
        "a = \"Life is too short, You need Python!\"\n",
        "\n",
        "print(a[-12])   # 문제[3]\n",
        "\n",
        "a[19:-8]       # 문제[4] "
      ],
      "execution_count": 0,
      "outputs": [
        {
          "output_type": "stream",
          "text": [
            "n\n"
          ],
          "name": "stdout"
        },
        {
          "output_type": "execute_result",
          "data": {
            "text/plain": [
              "'You need'"
            ]
          },
          "metadata": {
            "tags": []
          },
          "execution_count": 5
        }
      ]
    },
    {
      "cell_type": "markdown",
      "metadata": {
        "id": "6A6wwwuSYUB7",
        "colab_type": "text"
      },
      "source": [
        "\n",
        "\n",
        "---\n",
        "\n"
      ]
    },
    {
      "cell_type": "markdown",
      "metadata": {
        "colab_type": "text",
        "id": "UhMFzra8YYwa"
      },
      "source": [
        "### # [5] 다음의 결과가 출력되지 않는 것은?\n",
        "\n",
        "'I ate 10 apples. so I was sick for three days.'\n",
        "\n",
        "\n",
        "```\n",
        "# code start\n",
        "number = 10\n",
        "day = \"three\"\n",
        "\n",
        "'''\n",
        "A. \"I ate {0} apples. so I was sick for {1} days.\".format(10, day)\n",
        "B. f\"I ate {number} apples. so I was sick for {day} days.\"\n",
        "C. \"I ate {number} apples. so I was sick for {three} days.\"\n",
        "D. \"I ate {0} apples. so I was sick for {1} days.\".format(number, day)\n",
        "'''\n",
        "\n",
        "```"
      ]
    },
    {
      "cell_type": "code",
      "metadata": {
        "id": "VCRcdSdQ6qQG",
        "colab_type": "code",
        "colab": {}
      },
      "source": [
        "'I ate 10 apples. so I was sick for three days.'\n",
        "\n",
        "# code start\n",
        "number = 10\n",
        "day = \"three\"\n",
        "\n",
        "print(\"I ate {0} apples. so I was sick for {1} days.\".format(10, day))\n",
        "print(f\"I ate {number} apples. so I was sick for {day} days.\")\n",
        "print(\"I ate {0} apples. so I was sick for {1} days.\".format(number, day))\n",
        "\n",
        "print(f\"I ate {number} apples. so I was sick for {three} days.\") #C"
      ],
      "execution_count": 0,
      "outputs": []
    },
    {
      "cell_type": "markdown",
      "metadata": {
        "id": "ubrdvC5vRk38",
        "colab_type": "text"
      },
      "source": [
        "\n",
        "\n",
        "---\n",
        "\n"
      ]
    },
    {
      "cell_type": "markdown",
      "metadata": {
        "id": "btLVuaxpY39a",
        "colab_type": "text"
      },
      "source": [
        "### # [6] format 함수 또는 f 문자열 포매팅을 이용해서 '!!python!!' 문자열을 출력해보시오.\n",
        "\n",
        "```\n",
        "\n",
        "\n",
        "\n",
        "```\n"
      ]
    },
    {
      "cell_type": "code",
      "metadata": {
        "id": "Q-6WOyXC6-Ue",
        "colab_type": "code",
        "colab": {
          "base_uri": "https://localhost:8080/",
          "height": 35
        },
        "outputId": "ecd37bd7-ac98-459e-8fd4-fd0d52137801"
      },
      "source": [
        "\"{0:!^10}\".format(\"python\")\n",
        "\n",
        "f'{\"python\":!^10}'"
      ],
      "execution_count": 34,
      "outputs": [
        {
          "output_type": "execute_result",
          "data": {
            "text/plain": [
              "'!!python!!'"
            ]
          },
          "metadata": {
            "tags": []
          },
          "execution_count": 34
        }
      ]
    },
    {
      "cell_type": "markdown",
      "metadata": {
        "id": "bsQtSg0lY-mz",
        "colab_type": "text"
      },
      "source": [
        "\n",
        "\n",
        "---\n",
        "\n"
      ]
    },
    {
      "cell_type": "markdown",
      "metadata": {
        "colab_type": "text",
        "id": "RoOLqvs0ZH-m"
      },
      "source": [
        "### # [7] 다음 list a의 인덱싱 결과는?\n",
        "\n",
        "```\n",
        "a = [1, 2, (3, 4), ['a', 'b', ['My', 'Life', 'Good']]]\n",
        "\n",
        "\n",
        "a[3][-1][0]\n",
        "\n",
        "```\n"
      ]
    },
    {
      "cell_type": "code",
      "metadata": {
        "id": "lQaYBQqq7E-O",
        "colab_type": "code",
        "outputId": "1656e204-0592-4355-bbcd-0f7fda6dc585",
        "colab": {
          "base_uri": "https://localhost:8080/",
          "height": 35
        }
      },
      "source": [
        "a = [1, 2, (3, 4), ['a', 'b', ['My', 'Life', 'Good']]]\n",
        "\n",
        "\n",
        "a[3][-1][0]"
      ],
      "execution_count": 0,
      "outputs": [
        {
          "output_type": "execute_result",
          "data": {
            "text/plain": [
              "'My'"
            ]
          },
          "metadata": {
            "tags": []
          },
          "execution_count": 8
        }
      ]
    },
    {
      "cell_type": "markdown",
      "metadata": {
        "id": "lNKyqCh4ZQQm",
        "colab_type": "text"
      },
      "source": [
        "\n",
        "\n",
        "---\n",
        "\n"
      ]
    },
    {
      "cell_type": "markdown",
      "metadata": {
        "colab_type": "text",
        "id": "5MYeANveZUSL"
      },
      "source": [
        "### # [8] 다음 list x의 슬라이싱 결과는?\n",
        "\n",
        "\n",
        "```\n",
        "x = [1, 2, 3, 4, 5, 6, 7, 8, 9]\n",
        "\n",
        "x[-6:1:-1]\n",
        "\n",
        "```\n"
      ]
    },
    {
      "cell_type": "code",
      "metadata": {
        "id": "Lk9HXYJI7HPO",
        "colab_type": "code",
        "outputId": "b18875f1-63ce-4094-d9ea-303ee98796df",
        "colab": {
          "base_uri": "https://localhost:8080/",
          "height": 35
        }
      },
      "source": [
        "x = [1, 2, 3, 4, 5, 6, 7, 8, 9]\n",
        "\n",
        "x[-6:1:-1]"
      ],
      "execution_count": 0,
      "outputs": [
        {
          "output_type": "execute_result",
          "data": {
            "text/plain": [
              "[4, 3]"
            ]
          },
          "metadata": {
            "tags": []
          },
          "execution_count": 9
        }
      ]
    },
    {
      "cell_type": "markdown",
      "metadata": {
        "id": "03WI5SptZhWi",
        "colab_type": "text"
      },
      "source": [
        "\n",
        "\n",
        "---\n",
        "\n"
      ]
    },
    {
      "cell_type": "markdown",
      "metadata": {
        "colab_type": "text",
        "id": "P_Nn0Wm7ZkEk"
      },
      "source": [
        "### # [9] 다음 list x에 함수 count의 적용 결과는?\n",
        "\n",
        "\n",
        "```\n",
        "a = [1, 2, 's', 't']\n",
        "x = a*3\n",
        "\n",
        "x.count(\"s\")\n",
        "\n",
        "```\n"
      ]
    },
    {
      "cell_type": "code",
      "metadata": {
        "id": "koGoIt6r7Jf2",
        "colab_type": "code",
        "outputId": "f393f492-73e9-4d9d-8672-beb36639307f",
        "colab": {
          "base_uri": "https://localhost:8080/",
          "height": 35
        }
      },
      "source": [
        "a = [1, 2, 's', 't']\n",
        "x = a*3\n",
        "\n",
        "x.count(\"s\")"
      ],
      "execution_count": 0,
      "outputs": [
        {
          "output_type": "execute_result",
          "data": {
            "text/plain": [
              "3"
            ]
          },
          "metadata": {
            "tags": []
          },
          "execution_count": 10
        }
      ]
    },
    {
      "cell_type": "markdown",
      "metadata": {
        "id": "iS8dSiAiZxky",
        "colab_type": "text"
      },
      "source": [
        "\n",
        "\n",
        "---\n",
        "\n"
      ]
    },
    {
      "cell_type": "markdown",
      "metadata": {
        "colab_type": "text",
        "id": "X-wkQ_E2Z2Am"
      },
      "source": [
        "### # [10] 다음 tuple t1의 슬라이싱 결과는?\n",
        "\n",
        "\n",
        "\n",
        "```\n",
        "t1 = (0, 2, \"s\", \"t\", \"u\")\n",
        "\n",
        "t1[3:-1]\n",
        "\n",
        "```\n"
      ]
    },
    {
      "cell_type": "code",
      "metadata": {
        "id": "_m859wtA7LcO",
        "colab_type": "code",
        "outputId": "9f0b4649-ecbc-4323-a9e0-cd91215be78a",
        "colab": {
          "base_uri": "https://localhost:8080/",
          "height": 35
        }
      },
      "source": [
        "t1 = (0, 2, \"s\", \"t\", \"u\")\n",
        "\n",
        "t1[3:-1]"
      ],
      "execution_count": 0,
      "outputs": [
        {
          "output_type": "execute_result",
          "data": {
            "text/plain": [
              "('t',)"
            ]
          },
          "metadata": {
            "tags": []
          },
          "execution_count": 11
        }
      ]
    },
    {
      "cell_type": "markdown",
      "metadata": {
        "id": "E5cAIBhjRze1",
        "colab_type": "text"
      },
      "source": [
        "\n",
        "\n",
        "---\n",
        "\n"
      ]
    },
    {
      "cell_type": "markdown",
      "metadata": {
        "colab_type": "text",
        "id": "0lS1bWBAaDj7"
      },
      "source": [
        "### # [11] 다음 set s1의 최종 출력 결과는?\n",
        "\n",
        "```\n",
        "s1 = set([1, 2, 3])\n",
        "s1.update([2, 4, 6])\n",
        "\n",
        "s1.add(3)\n",
        "\n",
        "s1  # 출력 결과?\n",
        "```\n"
      ]
    },
    {
      "cell_type": "code",
      "metadata": {
        "id": "k1JuS-_97OOu",
        "colab_type": "code",
        "outputId": "e865f24f-7ff6-490c-8659-43b4f3595a71",
        "colab": {
          "base_uri": "https://localhost:8080/",
          "height": 71
        }
      },
      "source": [
        "s1 = set([1, 2, 3])\n",
        "\n",
        "print(s1)\n",
        "\n",
        "s1.update([2, 4, 6])\n",
        "\n",
        "print(s1)\n",
        "\n",
        "s1.add(3)\n",
        "\n",
        "print(s1)\n"
      ],
      "execution_count": 0,
      "outputs": [
        {
          "output_type": "stream",
          "text": [
            "{1, 2, 3}\n",
            "{1, 2, 3, 4, 6}\n",
            "{1, 2, 3, 4, 6}\n"
          ],
          "name": "stdout"
        }
      ]
    },
    {
      "cell_type": "markdown",
      "metadata": {
        "colab_type": "text",
        "id": "kqa9iT2Fa-jf"
      },
      "source": [
        "\n",
        "\n",
        "---\n",
        "\n"
      ]
    },
    {
      "cell_type": "markdown",
      "metadata": {
        "colab_type": "text",
        "id": "TqPDhfKHaSeE"
      },
      "source": [
        "### # [12] 다음 bool 값 출력 중 정확한 것은?\n",
        "\n",
        "bool([0, 1, 2, 3]), bool([0]), bool((0)), bool((0,))\n",
        "\n",
        "\n",
        "```\n",
        "'''\n",
        "A. (True, True, True, True)\n",
        "B. (False, False, False, False)\n",
        "C. (True, True, False, True)\n",
        "D. (True, False, False, True)\n",
        "'''\n",
        "\n",
        "```\n"
      ]
    },
    {
      "cell_type": "code",
      "metadata": {
        "id": "9j9Mtzwk7rF3",
        "colab_type": "code",
        "outputId": "920ebf2c-c497-421c-b4ea-3979d3a523ea",
        "colab": {
          "base_uri": "https://localhost:8080/",
          "height": 35
        }
      },
      "source": [
        "bool([0, 1, 2, 3]), bool([0]), bool((0)), bool((0,))"
      ],
      "execution_count": 0,
      "outputs": [
        {
          "output_type": "execute_result",
          "data": {
            "text/plain": [
              "(True, True, False, True)"
            ]
          },
          "metadata": {
            "tags": []
          },
          "execution_count": 16
        }
      ]
    },
    {
      "cell_type": "markdown",
      "metadata": {
        "id": "ZJkvEy9SPOtJ",
        "colab_type": "text"
      },
      "source": [
        "\n",
        "\n",
        "---\n",
        "\n"
      ]
    },
    {
      "cell_type": "markdown",
      "metadata": {
        "id": "NnWDXeUJ8yFF",
        "colab_type": "text"
      },
      "source": [
        "### # [13-2점] 다음 조건문을 1줄 코드로 변경하시오.  \n",
        "\n",
        "```\n",
        "score=80\n",
        "\n",
        "if score >= 70:\n",
        "    message = \"success\"\n",
        "else:\n",
        "    message = \"failure\"\n",
        "\n",
        "print(message)\n",
        "\n",
        "```\n",
        "\n",
        "> 출력 결과 :  success\n",
        "\n"
      ]
    },
    {
      "cell_type": "code",
      "metadata": {
        "colab_type": "code",
        "id": "xx3Nk7cX7rLi",
        "colab": {
          "base_uri": "https://localhost:8080/",
          "height": 35
        },
        "outputId": "1fdc7ac8-a710-4885-c7d2-729ea9375bfa"
      },
      "source": [
        "# [13-2점] 1줄 조건문\n",
        "\n",
        "score = 80\n",
        "\n",
        "message = \"success\" if score>=70 else \"failure\"\n",
        "\n",
        "\n",
        "print(message)\n"
      ],
      "execution_count": 36,
      "outputs": [
        {
          "output_type": "stream",
          "text": [
            "success\n"
          ],
          "name": "stdout"
        }
      ]
    },
    {
      "cell_type": "markdown",
      "metadata": {
        "id": "KWmhM8m6Qc2_",
        "colab_type": "text"
      },
      "source": [
        "\n",
        "\n",
        "---\n",
        "\n"
      ]
    },
    {
      "cell_type": "markdown",
      "metadata": {
        "colab_type": "text",
        "id": "lGorfx3Q_Ym8"
      },
      "source": [
        "### # [14-2점] 다음 커피자판기가 실행 결과와 같이 제대로 실행되도록 A, B 에 코드를 완성하시오. \n",
        "> coffee.py\n",
        "\n",
        "```\n",
        "\n",
        "coffee = 5\n",
        "\n",
        "while True:\n",
        "    money = int(input(\"돈을 넣어 주세요: \"))\n",
        "    if money == 300:\n",
        "        print(\"커피를 줍니다.\")\n",
        "        coffee = coffee -1\n",
        "    elif money > 300:\n",
        "        print(\"거스름돈 %d를 주고 커피를 줍니다.\" % A._____________)\n",
        "        coffee = coffee -1\n",
        "    else:\n",
        "        print(\"돈을 다시 돌려주고 커피를 주지 않습니다.\")\n",
        "        print(\"남은 커피의 양은 %d개 입니다.\" % coffee)\n",
        "    if B._______________:\n",
        "        print(\"커피가 다 떨어졌습니다. 판매를 중지 합니다.\")\n",
        "        break\n",
        "```\n",
        "> 실행 결과 :  \n",
        "```\n",
        "돈을 넣어 주세요: 300\n",
        "커피를 줍니다.\n",
        "돈을 넣어 주세요: 400\n",
        "거스름돈 100를 주고 커피를 줍니다.\n",
        "돈을 넣어 주세요: 500\n",
        "거스름돈 200를 주고 커피를 줍니다.\n",
        "돈을 넣어 주세요: 400\n",
        "거스름돈 100를 주고 커피를 줍니다.\n",
        "돈을 넣어 주세요: 300\n",
        "커피를 줍니다.\n",
        "커피가 다 떨어졌습니다. 판매를 중지 합니다.\n",
        "\n",
        "```\n",
        "\n"
      ]
    },
    {
      "cell_type": "code",
      "metadata": {
        "id": "wGCsphgS7yA2",
        "colab_type": "code",
        "colab": {
          "base_uri": "https://localhost:8080/",
          "height": 215
        },
        "outputId": "2814bc7c-7d4e-4e1f-c663-2be8b83cd569"
      },
      "source": [
        "coffee = 5\n",
        "\n",
        "while True:\n",
        "    money = int(input(\"돈을 넣어 주세요: \"))\n",
        "    if money == 300:\n",
        "        print(\"커피를 줍니다.\")\n",
        "        coffee = coffee -1\n",
        "    elif money > 300:\n",
        "        print(\"거스름돈 %d를 주고 커피를 줍니다.\" % (money-300))\n",
        "        coffee = coffee -1\n",
        "    else:\n",
        "        print(\"돈을 다시 돌려주고 커피를 주지 않습니다.\")\n",
        "        print(\"남은 커피의 양은 %d개 입니다.\" % coffee)\n",
        "    if coffee==0:\n",
        "        print(\"커피가 다 떨어졌습니다. 판매를 중지 합니다.\")\n",
        "        break"
      ],
      "execution_count": 51,
      "outputs": [
        {
          "output_type": "stream",
          "text": [
            "돈을 넣어 주세요: 300\n",
            "커피를 줍니다.\n",
            "돈을 넣어 주세요: 400\n",
            "거스름돈 100를 주고 커피를 줍니다.\n",
            "돈을 넣어 주세요: 500\n",
            "거스름돈 200를 주고 커피를 줍니다.\n",
            "돈을 넣어 주세요: 400\n",
            "거스름돈 100를 주고 커피를 줍니다.\n",
            "돈을 넣어 주세요: 300\n",
            "커피를 줍니다.\n",
            "커피가 다 떨어졌습니다. 판매를 중지 합니다.\n"
          ],
          "name": "stdout"
        }
      ]
    },
    {
      "cell_type": "markdown",
      "metadata": {
        "id": "0qRrZYG7QZhd",
        "colab_type": "text"
      },
      "source": [
        "\n",
        "\n",
        "---\n",
        "\n"
      ]
    },
    {
      "cell_type": "markdown",
      "metadata": {
        "colab_type": "text",
        "id": "OJike-w1CsoQ"
      },
      "source": [
        "### # [15-2점] 다음 for-loop의 출력 결과는?\n",
        "\n",
        "```\n",
        "\n",
        "games = [\"축구\", \"야구\", \"농구\"]\n",
        "\n",
        "# \n",
        "for cnt in range(len(games)):\n",
        "    print(cnt, games[cnt], end=',')\n",
        "    \n",
        "    \n",
        "```\n",
        "\n",
        "> 출력 결과 ? \n",
        "\n"
      ]
    },
    {
      "cell_type": "code",
      "metadata": {
        "id": "dA1jzqK38DHe",
        "colab_type": "code",
        "outputId": "34ba0713-d7ba-41ac-e5dd-d520aa16e32f",
        "colab": {
          "base_uri": "https://localhost:8080/",
          "height": 35
        }
      },
      "source": [
        "games = [\"축구\", \"야구\", \"농구\"]\n",
        "\n",
        "# \n",
        "for cnt in range(len(games)):\n",
        "    print(cnt, games[cnt], end=',')\n"
      ],
      "execution_count": 0,
      "outputs": [
        {
          "output_type": "stream",
          "text": [
            "0 축구,1 야구,2 농구,"
          ],
          "name": "stdout"
        }
      ]
    },
    {
      "cell_type": "markdown",
      "metadata": {
        "id": "llbH03czQf3N",
        "colab_type": "text"
      },
      "source": [
        "\n",
        "\n",
        "---\n",
        "\n"
      ]
    },
    {
      "cell_type": "markdown",
      "metadata": {
        "colab_type": "text",
        "id": "cKCXDHUgDQIx"
      },
      "source": [
        "### # [16-2점] 다음 dictionary를 이용하여 평균 점수를 계산하는 코드를 완성하시오.\n",
        "\n",
        "```\n",
        "\n",
        "\n",
        "scores={\"국어\":80, \"영어\":75, \"수학\":55}\n",
        "\n",
        "\n",
        "print(\"평균점수는{0}점입니다\".format(sum([16]_____________________)/len(scores)))\n",
        "\n",
        "\n",
        "    \n",
        "```\n",
        " \n",
        "\n"
      ]
    },
    {
      "cell_type": "code",
      "metadata": {
        "id": "Ygh_LUkc8HEt",
        "colab_type": "code",
        "colab": {
          "base_uri": "https://localhost:8080/",
          "height": 35
        },
        "outputId": "8eccf6fe-b9dc-4171-82c2-12e56f73a19d"
      },
      "source": [
        "scores={\"국어\":80, \"영어\":75, \"수학\":55}\n",
        "\n",
        "\n",
        "print(\"평균점수는{0}점입니다\".format(sum(scores.values())/len(scores)))\n"
      ],
      "execution_count": 40,
      "outputs": [
        {
          "output_type": "stream",
          "text": [
            "평균점수는70.0점입니다\n"
          ],
          "name": "stdout"
        }
      ]
    },
    {
      "cell_type": "markdown",
      "metadata": {
        "id": "cNQi2Iz1QhY1",
        "colab_type": "text"
      },
      "source": [
        "\n",
        "\n",
        "---\n",
        "\n"
      ]
    },
    {
      "cell_type": "markdown",
      "metadata": {
        "colab_type": "text",
        "id": "G-H8RbrqFoxY"
      },
      "source": [
        "### # [17-2점] ['Life', 'is', 'too', 'short.'] 리스트를 Life is too short. 문자열로 만들어 출력하는 코드를 완성하시오.\n",
        "> join 함수를 이용하시오.\n",
        "\n",
        "```\n",
        "\n",
        "words = ['Life', 'is', 'too', 'short']\n",
        "\n",
        "\n",
        "words = ______________________________\n",
        "\n",
        "\n",
        "print(words)\n",
        "\n",
        "    \n",
        "```\n",
        " "
      ]
    },
    {
      "cell_type": "code",
      "metadata": {
        "id": "vKiyCHUBGimW",
        "colab_type": "code",
        "colab": {
          "base_uri": "https://localhost:8080/",
          "height": 35
        },
        "outputId": "26416c51-a08e-4f4d-f1b5-88d13f02769a"
      },
      "source": [
        "words = ['Life', 'is', 'too', 'short']\n",
        "\n",
        "\n",
        "words = \" \".join(words)\n",
        "\n",
        "\n",
        "print(words)\n"
      ],
      "execution_count": 41,
      "outputs": [
        {
          "output_type": "stream",
          "text": [
            "Life is too short\n"
          ],
          "name": "stdout"
        }
      ]
    },
    {
      "cell_type": "markdown",
      "metadata": {
        "id": "LTv-Qb1uQirF",
        "colab_type": "text"
      },
      "source": [
        "\n",
        "\n",
        "---\n",
        "\n",
        "\n"
      ]
    },
    {
      "cell_type": "markdown",
      "metadata": {
        "colab_type": "text",
        "id": "avsnuGXeGoXx"
      },
      "source": [
        "### # [18-2점] a 리스트에서 중복 숫자를 제거해서 출력하는 다음 코드를 완성하시오.\n",
        "\n",
        "\n",
        "\n",
        "```\n",
        "\n",
        "a = [1, 1, 1, 2, 2, 3, 3, 3, 4, 4, 5]\n",
        "\n",
        "\n",
        "a = A.________________\n",
        "\n",
        "\n",
        "a = B.________________\n",
        "\n",
        "\n",
        "print(a)\n",
        "\n",
        "\n",
        "\n",
        "```\n",
        "\n",
        "\n",
        "  \n",
        "> 출력 결과 : [1, 2, 3, 4, 5]\n",
        "\n"
      ]
    },
    {
      "cell_type": "code",
      "metadata": {
        "id": "OXI4EdXVGzsE",
        "colab_type": "code",
        "colab": {
          "base_uri": "https://localhost:8080/",
          "height": 35
        },
        "outputId": "04cfafd8-7985-4b3e-9319-a3b7cacbe3b1"
      },
      "source": [
        "a = [1, 1, 1, 2, 2, 3, 3, 3, 4, 4, 5]\n",
        "\n",
        "\n",
        "a = set(a)\n",
        "\n",
        "\n",
        "a = list(a)\n",
        "\n",
        "\n",
        "print(a)\n"
      ],
      "execution_count": 42,
      "outputs": [
        {
          "output_type": "stream",
          "text": [
            "[1, 2, 3, 4, 5]\n"
          ],
          "name": "stdout"
        }
      ]
    },
    {
      "cell_type": "markdown",
      "metadata": {
        "id": "67ZFEoISQkCl",
        "colab_type": "text"
      },
      "source": [
        "\n",
        "\n",
        "\n",
        "---\n",
        "\n",
        "\n"
      ]
    },
    {
      "cell_type": "markdown",
      "metadata": {
        "colab_type": "text",
        "id": "8o60HImSHxBY"
      },
      "source": [
        "### # [19-2점] 다음 코드의 결과값은 무엇일까?\n",
        "\n",
        "\n",
        "\n",
        "```\n",
        "\n",
        "a = \"Life is too short, you need python\"\n",
        "\n",
        "\n",
        "if \"wife\" in a: print(\"wife\")\n",
        "\n",
        "elif \"python\" in a and \"you\" not in a: print(\"python\")\n",
        "\n",
        "elif \"shirt\" in a: print(\"shirt\")\n",
        "\n",
        "elif \"you\" in a: print(\"you\")\n",
        "\n",
        "else: print(\"none\")\n",
        "\n",
        "\n",
        "\n",
        "\n",
        "```\n",
        "  \n",
        "  \n",
        "  \n",
        "> 출력 결과 ?\n",
        "\n",
        "\n",
        "\n"
      ]
    },
    {
      "cell_type": "code",
      "metadata": {
        "id": "zaSYKJVs8jQu",
        "colab_type": "code",
        "outputId": "e1024130-a8f0-4477-a8df-e2b93cf11110",
        "colab": {
          "base_uri": "https://localhost:8080/",
          "height": 35
        }
      },
      "source": [
        "a = \"Life is too short, you need python\"\n",
        "\n",
        "\n",
        "if \"wife\" in a: print(\"wife\")\n",
        "\n",
        "elif \"python\" in a and \"you\" not in a: print(\"python\")\n",
        "\n",
        "elif \"shirt\" in a: print(\"shirt\")\n",
        "\n",
        "elif \"you\" in a: print(\"you\")\n",
        "\n",
        "else: print(\"none\")\n",
        "\n"
      ],
      "execution_count": 0,
      "outputs": [
        {
          "output_type": "stream",
          "text": [
            "you\n"
          ],
          "name": "stdout"
        }
      ]
    },
    {
      "cell_type": "markdown",
      "metadata": {
        "id": "Ed9mT8LsQlU1",
        "colab_type": "text"
      },
      "source": [
        "\n",
        "\n",
        "---\n",
        "\n"
      ]
    },
    {
      "cell_type": "markdown",
      "metadata": {
        "colab_type": "text",
        "id": "fAy1a2TAJEjA"
      },
      "source": [
        "### # [20-2점] for문 사용해 1부터 1000까지의 자연수 중 5의 배수의 합을 구하는 전체 코드를 작성하시오.\n",
        "\n",
        "> 결과(5의 배수의 합)까지 출력하는 코드는 4줄 이하로 작성하시오.\n",
        ">> 최소한의 줄로 만든 코드는 bonus 점수를 부여함.\n",
        "\n",
        "\n",
        "\n",
        "```\n",
        "___________________________________________________________\n",
        "\n",
        "___________________________________________________________\n",
        "\n",
        "___________________________________________________________\n",
        "\n",
        "___________________________________________________________\n",
        "\n",
        "\n",
        "```\n",
        "  \n"
      ]
    },
    {
      "cell_type": "code",
      "metadata": {
        "id": "klmqK7L4HRC0",
        "colab_type": "code",
        "colab": {
          "base_uri": "https://localhost:8080/",
          "height": 35
        },
        "outputId": "872c3cac-ecc3-4a12-b9d8-1eaaa851391a"
      },
      "source": [
        "# code-1 : 4 lines\n",
        "\n",
        "result = 0\n",
        "for i in range(1,1001):\n",
        "  if i % 5 == 0 : result += i\n",
        "\n",
        "print(result)"
      ],
      "execution_count": 44,
      "outputs": [
        {
          "output_type": "stream",
          "text": [
            "100500\n"
          ],
          "name": "stdout"
        }
      ]
    },
    {
      "cell_type": "code",
      "metadata": {
        "id": "m6PX3NpuH6Z2",
        "colab_type": "code",
        "colab": {
          "base_uri": "https://localhost:8080/",
          "height": 35
        },
        "outputId": "368d7e51-18ba-4ef3-e747-a0fdf21919a1"
      },
      "source": [
        "# code-2 : 2 lines\n",
        "\n",
        "num5 = [n for n in range(1,1001) if n % 5 == 0]\n",
        "print(sum(num5))"
      ],
      "execution_count": 46,
      "outputs": [
        {
          "output_type": "stream",
          "text": [
            "100500\n"
          ],
          "name": "stdout"
        }
      ]
    },
    {
      "cell_type": "code",
      "metadata": {
        "id": "iEHQ5s0yIXNs",
        "colab_type": "code",
        "colab": {
          "base_uri": "https://localhost:8080/",
          "height": 35
        },
        "outputId": "7cd078d2-9110-48f7-8bd0-f5650d52424c"
      },
      "source": [
        "# code-3 : 1 lines\n",
        "\n",
        "sum([n for n in range(1,1001) if n % 5 == 0])\n"
      ],
      "execution_count": 47,
      "outputs": [
        {
          "output_type": "execute_result",
          "data": {
            "text/plain": [
              "100500"
            ]
          },
          "metadata": {
            "tags": []
          },
          "execution_count": 47
        }
      ]
    },
    {
      "cell_type": "markdown",
      "metadata": {
        "id": "4O3KF0EySrzd",
        "colab_type": "text"
      },
      "source": [
        "\n",
        "\n",
        "---\n",
        "\n",
        "\n"
      ]
    },
    {
      "cell_type": "markdown",
      "metadata": {
        "colab_type": "text",
        "id": "BITUmfelK0jc"
      },
      "source": [
        "### # [21-2점] 1부터 1000까지의 자연수 중 5의 배수를 전부 포함하는 list를 list 내포로 만드시오.\n",
        "\n",
        "> 한 줄 코드로 완성하시오.\n",
        "\n",
        "\n",
        "```\n",
        "\n",
        "\n",
        "______________________________________________________________________\n",
        "\n",
        "\n",
        "\n",
        "```\n",
        "  \n"
      ]
    },
    {
      "cell_type": "code",
      "metadata": {
        "id": "8uH9JXCdIpvO",
        "colab_type": "code",
        "colab": {
          "base_uri": "https://localhost:8080/",
          "height": 1000
        },
        "outputId": "0ea15d76-2c2a-484f-dfb8-5fe8e77d44d5"
      },
      "source": [
        "# code\n",
        "\n",
        "[n for n in range(1,1001) if n % 5 == 0]"
      ],
      "execution_count": 49,
      "outputs": [
        {
          "output_type": "execute_result",
          "data": {
            "text/plain": [
              "[5,\n",
              " 10,\n",
              " 15,\n",
              " 20,\n",
              " 25,\n",
              " 30,\n",
              " 35,\n",
              " 40,\n",
              " 45,\n",
              " 50,\n",
              " 55,\n",
              " 60,\n",
              " 65,\n",
              " 70,\n",
              " 75,\n",
              " 80,\n",
              " 85,\n",
              " 90,\n",
              " 95,\n",
              " 100,\n",
              " 105,\n",
              " 110,\n",
              " 115,\n",
              " 120,\n",
              " 125,\n",
              " 130,\n",
              " 135,\n",
              " 140,\n",
              " 145,\n",
              " 150,\n",
              " 155,\n",
              " 160,\n",
              " 165,\n",
              " 170,\n",
              " 175,\n",
              " 180,\n",
              " 185,\n",
              " 190,\n",
              " 195,\n",
              " 200,\n",
              " 205,\n",
              " 210,\n",
              " 215,\n",
              " 220,\n",
              " 225,\n",
              " 230,\n",
              " 235,\n",
              " 240,\n",
              " 245,\n",
              " 250,\n",
              " 255,\n",
              " 260,\n",
              " 265,\n",
              " 270,\n",
              " 275,\n",
              " 280,\n",
              " 285,\n",
              " 290,\n",
              " 295,\n",
              " 300,\n",
              " 305,\n",
              " 310,\n",
              " 315,\n",
              " 320,\n",
              " 325,\n",
              " 330,\n",
              " 335,\n",
              " 340,\n",
              " 345,\n",
              " 350,\n",
              " 355,\n",
              " 360,\n",
              " 365,\n",
              " 370,\n",
              " 375,\n",
              " 380,\n",
              " 385,\n",
              " 390,\n",
              " 395,\n",
              " 400,\n",
              " 405,\n",
              " 410,\n",
              " 415,\n",
              " 420,\n",
              " 425,\n",
              " 430,\n",
              " 435,\n",
              " 440,\n",
              " 445,\n",
              " 450,\n",
              " 455,\n",
              " 460,\n",
              " 465,\n",
              " 470,\n",
              " 475,\n",
              " 480,\n",
              " 485,\n",
              " 490,\n",
              " 495,\n",
              " 500,\n",
              " 505,\n",
              " 510,\n",
              " 515,\n",
              " 520,\n",
              " 525,\n",
              " 530,\n",
              " 535,\n",
              " 540,\n",
              " 545,\n",
              " 550,\n",
              " 555,\n",
              " 560,\n",
              " 565,\n",
              " 570,\n",
              " 575,\n",
              " 580,\n",
              " 585,\n",
              " 590,\n",
              " 595,\n",
              " 600,\n",
              " 605,\n",
              " 610,\n",
              " 615,\n",
              " 620,\n",
              " 625,\n",
              " 630,\n",
              " 635,\n",
              " 640,\n",
              " 645,\n",
              " 650,\n",
              " 655,\n",
              " 660,\n",
              " 665,\n",
              " 670,\n",
              " 675,\n",
              " 680,\n",
              " 685,\n",
              " 690,\n",
              " 695,\n",
              " 700,\n",
              " 705,\n",
              " 710,\n",
              " 715,\n",
              " 720,\n",
              " 725,\n",
              " 730,\n",
              " 735,\n",
              " 740,\n",
              " 745,\n",
              " 750,\n",
              " 755,\n",
              " 760,\n",
              " 765,\n",
              " 770,\n",
              " 775,\n",
              " 780,\n",
              " 785,\n",
              " 790,\n",
              " 795,\n",
              " 800,\n",
              " 805,\n",
              " 810,\n",
              " 815,\n",
              " 820,\n",
              " 825,\n",
              " 830,\n",
              " 835,\n",
              " 840,\n",
              " 845,\n",
              " 850,\n",
              " 855,\n",
              " 860,\n",
              " 865,\n",
              " 870,\n",
              " 875,\n",
              " 880,\n",
              " 885,\n",
              " 890,\n",
              " 895,\n",
              " 900,\n",
              " 905,\n",
              " 910,\n",
              " 915,\n",
              " 920,\n",
              " 925,\n",
              " 930,\n",
              " 935,\n",
              " 940,\n",
              " 945,\n",
              " 950,\n",
              " 955,\n",
              " 960,\n",
              " 965,\n",
              " 970,\n",
              " 975,\n",
              " 980,\n",
              " 985,\n",
              " 990,\n",
              " 995,\n",
              " 1000]"
            ]
          },
          "metadata": {
            "tags": []
          },
          "execution_count": 49
        }
      ]
    },
    {
      "cell_type": "markdown",
      "metadata": {
        "id": "7_w53TXgPvFN",
        "colab_type": "text"
      },
      "source": [
        "\n",
        "\n",
        "---\n",
        "\n"
      ]
    },
    {
      "cell_type": "markdown",
      "metadata": {
        "id": "aefyz-CMMExW",
        "colab_type": "text"
      },
      "source": [
        "## 정답을 설명하는 파이썬 노트를 완성해서 각자의 github에 올리시오.\n",
        "- 제출기한: 10월 28일(월) 오후 4시."
      ]
    },
    {
      "cell_type": "markdown",
      "metadata": {
        "id": "IVFkw0axMf5l",
        "colab_type": "text"
      },
      "source": [
        "### 업로드 파일명: pynn_exam_mid.ipynb  (pynn은 id)"
      ]
    }
  ]
}