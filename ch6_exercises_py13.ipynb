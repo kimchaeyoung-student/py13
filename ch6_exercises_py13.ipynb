{
  "nbformat": 4,
  "nbformat_minor": 0,
  "metadata": {
    "colab": {
      "name": "ch6_exercises_py13.ipynb",
      "provenance": [],
      "collapsed_sections": [],
      "toc_visible": true,
      "include_colab_link": true
    },
    "kernelspec": {
      "name": "python3",
      "display_name": "Python 3"
    }
  },
  "cells": [
    {
      "cell_type": "markdown",
      "metadata": {
        "id": "view-in-github",
        "colab_type": "text"
      },
      "source": [
        "<a href=\"https://colab.research.google.com/github/kimchaeyoung-student/py13/blob/master/ch6_exercises_py13.ipynb\" target=\"_parent\"><img src=\"https://colab.research.google.com/assets/colab-badge.svg\" alt=\"Open In Colab\"/></a>"
      ]
    },
    {
      "cell_type": "markdown",
      "metadata": {
        "id": "HDV1xpoDXghG",
        "colab_type": "text"
      },
      "source": [
        "### 문제 1. 내가 프로그램을 만들 수 있을까?\n",
        "구구단 출력"
      ]
    },
    {
      "cell_type": "code",
      "metadata": {
        "colab_type": "code",
        "outputId": "ccd681af-bfc1-41e5-fc8d-a5f3df0bd76e",
        "id": "hAKBzKfwafwd",
        "colab": {
          "base_uri": "https://localhost:8080/",
          "height": 34
        }
      },
      "source": [
        "# code - 1\n",
        "\n",
        "def GuGu0(n):\n",
        "    result = []\n",
        "    result.append(n * 1)\n",
        "    result.append(n * 2)\n",
        "    result.append(n * 3)\n",
        "    result.append(n * 4)\n",
        "    result.append(n * 5)\n",
        "    result.append(n * 6)\n",
        "    result.append(n * 7)\n",
        "    result.append(n * 8)\n",
        "    result.append(n * 9)\n",
        "    return result\n",
        "\n",
        "\n",
        "print(GuGu0(2))\n"
      ],
      "execution_count": 0,
      "outputs": [
        {
          "output_type": "stream",
          "text": [
            "[2, 4, 6, 8, 10, 12, 14, 16, 18]\n"
          ],
          "name": "stdout"
        }
      ]
    },
    {
      "cell_type": "code",
      "metadata": {
        "id": "B3Rz1rAiaDnH",
        "colab_type": "code",
        "outputId": "1b5b8781-3bba-4812-fbc7-1586e7bab135",
        "colab": {
          "base_uri": "https://localhost:8080/",
          "height": 34
        }
      },
      "source": [
        "# code - 2\n",
        "\n",
        "def GuGu(n):\n",
        "    result = []\n",
        "    i = 1\n",
        "    while i < 10:\n",
        "        result.append(n * i)\n",
        "        i = i + 1\n",
        "    return result\n",
        "\n",
        "\n",
        "print(GuGu(3))\n"
      ],
      "execution_count": 0,
      "outputs": [
        {
          "output_type": "stream",
          "text": [
            "[3, 6, 9, 12, 15, 18, 21, 24, 27]\n"
          ],
          "name": "stdout"
        }
      ]
    },
    {
      "cell_type": "markdown",
      "metadata": {
        "colab_type": "text",
        "id": "lIqp14iPZ7H9"
      },
      "source": [
        "### 문제 2. 3과 5의 배수 합하기\n",
        "10 미만의 자연수에서 3과 5의 배수를 구하면 3, 5, 6, 9이다.\n",
        "\n",
        "이들의 총합은 23이다.\n",
        "\n",
        "1000 미만의 자연수에서 3의 배수와 5의 배수의 총합을 구하라."
      ]
    },
    {
      "cell_type": "code",
      "metadata": {
        "id": "6frQHC2LbGRW",
        "colab_type": "code",
        "outputId": "2a000795-a5af-4a0d-8118-e208997720b5",
        "colab": {
          "base_uri": "https://localhost:8080/",
          "height": 34
        }
      },
      "source": [
        "# code - 1\n",
        "\n",
        "result = 0\n",
        "for n in range(1, 1000):\n",
        "    if n % 3 == 0 or n % 5 == 0:\n",
        "        result += n\n",
        "print(result)\n"
      ],
      "execution_count": 0,
      "outputs": [
        {
          "output_type": "stream",
          "text": [
            "233168\n"
          ],
          "name": "stdout"
        }
      ]
    },
    {
      "cell_type": "code",
      "metadata": {
        "id": "SDyyks_wcCfa",
        "colab_type": "code",
        "outputId": "540b016e-f6dc-474c-af24-5706206a0bca",
        "colab": {
          "base_uri": "https://localhost:8080/",
          "height": 52
        }
      },
      "source": [
        "# code - 2\n",
        "\n",
        "result_w = 0\n",
        "for n in range(1, 1000):\n",
        "    if n % 3 == 0:\n",
        "        result_w += n\n",
        "    if n % 5 == 0:\n",
        "        result_w += n\n",
        "\n",
        "result_3_5 = 0\n",
        "for n in range(1, 1000):\n",
        "    if n % 3 == 0 and n % 5 == 0:\n",
        "        result_3_5 += n\n",
        "print(result_3_5)\n",
        "\n",
        "(result_w - result_3_5) == result\n"
      ],
      "execution_count": 0,
      "outputs": [
        {
          "output_type": "stream",
          "text": [
            "33165\n"
          ],
          "name": "stdout"
        },
        {
          "output_type": "execute_result",
          "data": {
            "text/plain": [
              "True"
            ]
          },
          "metadata": {
            "tags": []
          },
          "execution_count": 12
        }
      ]
    },
    {
      "cell_type": "markdown",
      "metadata": {
        "colab_type": "text",
        "id": "LkFdMUb7bBF8"
      },
      "source": [
        "### 문제 3. 게시판 페이징하기\n",
        "A 씨는 게시판 프로그램을 작성하고 있다.\n",
        "\n",
        "그런데 게시물의 총 건수와 한 페이지에 보여 줄 게시물 수를 입력으로 주었을 때\n",
        "\n",
        "총 페이지 수를 출력하는 프로그램을 만들어보자.\n",
        "\n",
        "한 페이지에서 보여 줄 게시물 수가 최대 10\n",
        "\n",
        "총 페이지 수 = (총 건수 / 한 페이지당 보여 줄 건수) + 1"
      ]
    },
    {
      "cell_type": "code",
      "metadata": {
        "id": "hKdQvMLVc2co",
        "colab_type": "code",
        "outputId": "0098f0f3-cf7f-45cd-e395-f64d736f52ac",
        "colab": {
          "base_uri": "https://localhost:8080/",
          "height": 87
        }
      },
      "source": [
        "# code - 1 (Wrong!)\n",
        "\n",
        "def getTotalPage(m, n):\n",
        "    return m // n + 1\n",
        "\n",
        "\n",
        "print(getTotalPage(5, 10))  # 1 출력\n",
        "print(getTotalPage(15, 10))  # 2 출력\n",
        "print(getTotalPage(25, 10))  # 3 출력\n",
        "print(getTotalPage(30, 10))  # 4 출력, Wrong!\n"
      ],
      "execution_count": 0,
      "outputs": [
        {
          "output_type": "stream",
          "text": [
            "1\n",
            "2\n",
            "3\n",
            "4\n"
          ],
          "name": "stdout"
        }
      ]
    },
    {
      "cell_type": "code",
      "metadata": {
        "id": "zLxqHGfgdBT0",
        "colab_type": "code",
        "outputId": "03adad6f-2311-4da0-89b2-3b8f4e0dc56d",
        "colab": {
          "base_uri": "https://localhost:8080/",
          "height": 87
        }
      },
      "source": [
        "# code - 2\n",
        "\n",
        "def getTotalPage(m, n):\n",
        "    if m % n == 0:\n",
        "        return m // n\n",
        "    else:\n",
        "        return m // n + 1\n",
        "\n",
        "\n",
        "print(getTotalPage(5, 10))\n",
        "print(getTotalPage(15, 10))\n",
        "print(getTotalPage(25, 10))\n",
        "print(getTotalPage(30, 10))\n"
      ],
      "execution_count": 0,
      "outputs": [
        {
          "output_type": "stream",
          "text": [
            "1\n",
            "2\n",
            "3\n",
            "3\n"
          ],
          "name": "stdout"
        }
      ]
    },
    {
      "cell_type": "markdown",
      "metadata": {
        "colab_type": "text",
        "id": "5nNrYP1QcUMP"
      },
      "source": [
        "### 문제 4. 간단한 메모장 만들기\n",
        "원하는 메모를 파일에 저장하고 추가 및 조회가 가능한 간단한 메모장을 만들어 보자.\n",
        "\n",
        "필요한 기능은? 메모 추가하기, 메모 조회하기\n",
        "\n",
        "입력 받는 값은? 메모 내용, 프로그램 실행 옵션\n",
        "\n",
        "출력하는 값은? memo.txt"
      ]
    },
    {
      "cell_type": "code",
      "metadata": {
        "id": "U3_tLq64VnOZ",
        "colab_type": "code",
        "outputId": "835d2555-8ad7-45ac-be3b-059ca0f78702",
        "colab": {
          "base_uri": "https://localhost:8080/",
          "height": 34
        }
      },
      "source": [
        "ls"
      ],
      "execution_count": 0,
      "outputs": [
        {
          "output_type": "stream",
          "text": [
            "memo.py  \u001b[0m\u001b[01;34msample_data\u001b[0m/\n"
          ],
          "name": "stdout"
        }
      ]
    },
    {
      "cell_type": "code",
      "metadata": {
        "id": "A1JMbHooYfEk",
        "colab_type": "code",
        "colab": {}
      },
      "source": [
        "mkdir 'doit'"
      ],
      "execution_count": 0,
      "outputs": []
    },
    {
      "cell_type": "code",
      "metadata": {
        "id": "eS3-DQXYY5sn",
        "colab_type": "code",
        "outputId": "9a7653cf-8109-4f52-bb6f-c49330897750",
        "colab": {
          "base_uri": "https://localhost:8080/",
          "height": 34
        }
      },
      "source": [
        "ls"
      ],
      "execution_count": 0,
      "outputs": [
        {
          "output_type": "stream",
          "text": [
            "\u001b[0m\u001b[01;34mdoit\u001b[0m/  memo.py  \u001b[01;34msample_data\u001b[0m/\n"
          ],
          "name": "stdout"
        }
      ]
    },
    {
      "cell_type": "code",
      "metadata": {
        "id": "MROE7QUEY6Qn",
        "colab_type": "code",
        "colab": {}
      },
      "source": [
        "mv memo.py ./doit/"
      ],
      "execution_count": 0,
      "outputs": []
    },
    {
      "cell_type": "code",
      "metadata": {
        "id": "GY9XJykiZFQU",
        "colab_type": "code",
        "outputId": "92e3b3dc-a23e-4eac-82d1-3c0a7a685a16",
        "colab": {
          "base_uri": "https://localhost:8080/",
          "height": 34
        }
      },
      "source": [
        "cd doit"
      ],
      "execution_count": 0,
      "outputs": [
        {
          "output_type": "stream",
          "text": [
            "/content/doit\n"
          ],
          "name": "stdout"
        }
      ]
    },
    {
      "cell_type": "code",
      "metadata": {
        "id": "RwwmC8FWZoNP",
        "colab_type": "code",
        "outputId": "afbc99aa-3fa2-4f52-b76f-980bf40a034d",
        "colab": {
          "base_uri": "https://localhost:8080/",
          "height": 34
        }
      },
      "source": [
        "pwd"
      ],
      "execution_count": 0,
      "outputs": [
        {
          "output_type": "execute_result",
          "data": {
            "text/plain": [
              "'/content/doit'"
            ]
          },
          "metadata": {
            "tags": []
          },
          "execution_count": 20
        }
      ]
    },
    {
      "cell_type": "code",
      "metadata": {
        "id": "kTK4Yo3MZrfs",
        "colab_type": "code",
        "colab": {}
      },
      "source": [
        "!python memo.py -a \"Py coding is fun!\""
      ],
      "execution_count": 0,
      "outputs": []
    },
    {
      "cell_type": "code",
      "metadata": {
        "id": "itLS8PzcZ5BZ",
        "colab_type": "code",
        "outputId": "4e25ef9b-b23c-4a74-8d17-95e0bc69c0eb",
        "colab": {
          "base_uri": "https://localhost:8080/",
          "height": 52
        }
      },
      "source": [
        "!python memo.py -v"
      ],
      "execution_count": 0,
      "outputs": [
        {
          "output_type": "stream",
          "text": [
            "Py coding is fun!\n",
            "\n"
          ],
          "name": "stdout"
        }
      ]
    },
    {
      "cell_type": "markdown",
      "metadata": {
        "id": "7FINk7-0f7Re",
        "colab_type": "text"
      },
      "source": [
        "### 문제 5. 탭을 4개의 공백으로 바꾸기\n",
        "문서 파일을 읽어서 그 문서 파일 안에 있는 탭(tab)을 공백(space) 4개로 바꾸어 주는 스크립트를 작성\n",
        "\n",
        "필요한 기능은? 문서 파일 읽어 들이기, 문자열 변경하기\n",
        "\n",
        "입력 받는 값은? 탭을 포함한 문서 파일\n",
        "\n",
        "출력하는 값은? 탭이 공백으로 수정된 문서 파일"
      ]
    },
    {
      "cell_type": "code",
      "metadata": {
        "id": "qeyYDIvxfyBt",
        "colab_type": "code",
        "outputId": "68d5b312-04cc-41c0-efd6-8f37fd5d1c10",
        "colab": {
          "base_uri": "https://localhost:8080/",
          "height": 34
        }
      },
      "source": [
        "cd .."
      ],
      "execution_count": 0,
      "outputs": [
        {
          "output_type": "stream",
          "text": [
            "/content\n"
          ],
          "name": "stdout"
        }
      ]
    },
    {
      "cell_type": "code",
      "metadata": {
        "id": "UJ8fpw6tf2Qw",
        "colab_type": "code",
        "outputId": "b6cc4fd3-f1a2-4197-8cce-29c16f7a58ef",
        "colab": {
          "base_uri": "https://localhost:8080/",
          "height": 34
        }
      },
      "source": [
        "ls"
      ],
      "execution_count": 0,
      "outputs": [
        {
          "output_type": "stream",
          "text": [
            "a.txt  \u001b[0m\u001b[01;34mdoit\u001b[0m/  \u001b[01;34msample_data\u001b[0m/  sub_dir_search.py  tabto4.py\n"
          ],
          "name": "stdout"
        }
      ]
    },
    {
      "cell_type": "code",
      "metadata": {
        "id": "J0pp40wIg2zz",
        "colab_type": "code",
        "colab": {}
      },
      "source": [
        "mv a.txt ./doit/"
      ],
      "execution_count": 0,
      "outputs": []
    },
    {
      "cell_type": "code",
      "metadata": {
        "id": "tn54LQ1BhJoc",
        "colab_type": "code",
        "colab": {}
      },
      "source": [
        "mv tabto4.py ./doit/"
      ],
      "execution_count": 0,
      "outputs": []
    },
    {
      "cell_type": "code",
      "metadata": {
        "id": "1ZYdVCHThLdk",
        "colab_type": "code",
        "outputId": "d3d01c8d-a3c0-4472-bc09-c64536d76ccd",
        "colab": {
          "base_uri": "https://localhost:8080/",
          "height": 34
        }
      },
      "source": [
        "cd doit"
      ],
      "execution_count": 0,
      "outputs": [
        {
          "output_type": "stream",
          "text": [
            "/content/doit\n"
          ],
          "name": "stdout"
        }
      ]
    },
    {
      "cell_type": "code",
      "metadata": {
        "id": "zqybalp5hONE",
        "colab_type": "code",
        "outputId": "2ea02cfb-0550-461c-8de7-3eb98e9f7fb0",
        "colab": {
          "base_uri": "https://localhost:8080/",
          "height": 34
        }
      },
      "source": [
        "pwd"
      ],
      "execution_count": 0,
      "outputs": [
        {
          "output_type": "execute_result",
          "data": {
            "text/plain": [
              "'/content/doit'"
            ]
          },
          "metadata": {
            "tags": []
          },
          "execution_count": 32
        }
      ]
    },
    {
      "cell_type": "code",
      "metadata": {
        "id": "X9q5GChJhRKa",
        "colab_type": "code",
        "colab": {}
      },
      "source": [
        "!python tabto4.py a.txt b.txt"
      ],
      "execution_count": 0,
      "outputs": []
    },
    {
      "cell_type": "markdown",
      "metadata": {
        "colab_type": "text",
        "id": "MXSnok5lfkTf"
      },
      "source": [
        "### 문제 6. 폴더 내의 특정 파일 검색 (하위 디렉터리 검색하기)\n",
        "특정 디렉터리부터 시작해서 그 하위 모든 파일 중 파이썬 파일(*.py)만 출력해 주는 프로그램을 만들려면 어떻게 해야 할까?"
      ]
    },
    {
      "cell_type": "code",
      "metadata": {
        "id": "6GcLkEd1ggKR",
        "colab_type": "code",
        "outputId": "28c892fc-20d7-4374-c848-2e92b078de8e",
        "colab": {
          "base_uri": "https://localhost:8080/",
          "height": 54
        }
      },
      "source": [
        "'''\n",
        "# ./ch6/sub_dir_search.py\n",
        "import os\n",
        "\n",
        "\n",
        "def search(dirname):\n",
        "    try:\n",
        "        filenames = os.listdir(dirname)\n",
        "        for filename in filenames:\n",
        "            full_filename = os.path.join(dirname, filename)\n",
        "            if os.path.isdir(full_filename):\n",
        "                search(full_filename)\n",
        "            else:\n",
        "                ext = os.path.splitext(full_filename)[-1]\n",
        "                if ext == \".py\":\n",
        "                    print(full_filename)\n",
        "    except PermissionError:\n",
        "        pass\n",
        "\n",
        "\n",
        "search(\"./\")\n",
        "\n",
        "'''"
      ],
      "execution_count": 0,
      "outputs": [
        {
          "output_type": "execute_result",
          "data": {
            "text/plain": [
              "'\\n# ./ch6/sub_dir_search.py\\nimport os\\n\\n\\ndef search(dirname):\\n    try:\\n        filenames = os.listdir(dirname)\\n        for filename in filenames:\\n            full_filename = os.path.join(dirname, filename)\\n            if os.path.isdir(full_filename):\\n                search(full_filename)\\n            else:\\n                ext = os.path.splitext(full_filename)[-1]\\n                if ext == \".py\":\\n                    print(full_filename)\\n    except PermissionError:\\n        pass\\n\\n\\nsearch(\"./\")\\n\\n'"
            ]
          },
          "metadata": {
            "tags": []
          },
          "execution_count": 71
        }
      ]
    },
    {
      "cell_type": "code",
      "metadata": {
        "id": "3NC62X-Up5Lv",
        "colab_type": "code",
        "outputId": "f5b2534a-061f-4dcd-dd97-972229a5adb3",
        "colab": {
          "base_uri": "https://localhost:8080/",
          "height": 34
        }
      },
      "source": [
        "cd content"
      ],
      "execution_count": 0,
      "outputs": [
        {
          "output_type": "stream",
          "text": [
            "/content\n"
          ],
          "name": "stdout"
        }
      ]
    },
    {
      "cell_type": "code",
      "metadata": {
        "id": "Mk0Dcw51qQiv",
        "colab_type": "code",
        "outputId": "a9b49c77-789d-4bec-a51d-0a97a76272b8",
        "colab": {
          "base_uri": "https://localhost:8080/",
          "height": 34
        }
      },
      "source": [
        "ls"
      ],
      "execution_count": 0,
      "outputs": [
        {
          "output_type": "stream",
          "text": [
            "\u001b[0m\u001b[01;34mdoit\u001b[0m/\n"
          ],
          "name": "stdout"
        }
      ]
    },
    {
      "cell_type": "code",
      "metadata": {
        "id": "dANgRo7lqaNY",
        "colab_type": "code",
        "outputId": "ac1b2056-0e93-4d64-f89b-9224fc499698",
        "colab": {
          "base_uri": "https://localhost:8080/",
          "height": 34
        }
      },
      "source": [
        "cd doit"
      ],
      "execution_count": 0,
      "outputs": [
        {
          "output_type": "stream",
          "text": [
            "/content/doit\n"
          ],
          "name": "stdout"
        }
      ]
    },
    {
      "cell_type": "code",
      "metadata": {
        "id": "Ugbf_oDaaASI",
        "colab_type": "code",
        "outputId": "44ec3bc3-8ac7-4d44-a761-51207a33e1cb",
        "colab": {
          "base_uri": "https://localhost:8080/",
          "height": 87
        }
      },
      "source": [
        "!python sub_dir_search.py"
      ],
      "execution_count": 0,
      "outputs": [
        {
          "output_type": "stream",
          "text": [
            "./memo.py\n",
            "./sub_dir_search.py\n",
            "./tabto4.py\n",
            "./sub_dir_walk.py\n"
          ],
          "name": "stdout"
        }
      ]
    },
    {
      "cell_type": "code",
      "metadata": {
        "id": "najgRCtZqoNF",
        "colab_type": "code",
        "outputId": "ab372f19-06be-497e-e458-4d41b478ce09",
        "colab": {
          "base_uri": "https://localhost:8080/",
          "height": 87
        }
      },
      "source": [
        "!python sub_dir_walk.py"
      ],
      "execution_count": 0,
      "outputs": [
        {
          "output_type": "stream",
          "text": [
            ".//memo.py\n",
            ".//sub_dir_search.py\n",
            ".//tabto4.py\n",
            ".//sub_dir_walk.py\n"
          ],
          "name": "stdout"
        }
      ]
    }
  ]
}